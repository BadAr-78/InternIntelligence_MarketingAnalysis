{
 "cells": [
  {
   "cell_type": "markdown",
   "id": "90a417cb",
   "metadata": {
    "execution": {
     "iopub.execute_input": "2025-07-12T08:26:41.334382Z",
     "iopub.status.busy": "2025-07-12T08:26:41.334143Z",
     "iopub.status.idle": "2025-07-12T08:26:41.337580Z",
     "shell.execute_reply": "2025-07-12T08:26:41.336963Z",
     "shell.execute_reply.started": "2025-07-12T08:26:41.334365Z"
    },
    "papermill": {
     "duration": 0.005776,
     "end_time": "2025-07-12T08:33:34.415090",
     "exception": false,
     "start_time": "2025-07-12T08:33:34.409314",
     "status": "completed"
    },
    "tags": []
   },
   "source": [
    "# 📊 Task 1 – Predictive Analytics Model\n",
    "### Predicting Customer Response to Marketing Campaigns\n"
   ]
  },
  {
   "cell_type": "code",
   "execution_count": 1,
   "id": "1be276f6",
   "metadata": {
    "_cell_guid": "b1076dfc-b9ad-4769-8c92-a6c4dae69d19",
    "_uuid": "8f2839f25d086af736a60e9eeb907d3b93b6e0e5",
    "execution": {
     "iopub.execute_input": "2025-07-12T08:33:34.426235Z",
     "iopub.status.busy": "2025-07-12T08:33:34.425895Z",
     "iopub.status.idle": "2025-07-12T08:33:36.478636Z",
     "shell.execute_reply": "2025-07-12T08:33:36.477576Z"
    },
    "papermill": {
     "duration": 2.061347,
     "end_time": "2025-07-12T08:33:36.481363",
     "exception": false,
     "start_time": "2025-07-12T08:33:34.420016",
     "status": "completed"
    },
    "tags": []
   },
   "outputs": [
    {
     "name": "stdout",
     "output_type": "stream",
     "text": [
      "/kaggle/input/arketing-campaign/marketing_campaign.csv\n",
      "/kaggle/input/arketing-campaign/marketing_campaign.xlsx\n"
     ]
    }
   ],
   "source": [
    "# This Python 3 environment comes with many helpful analytics libraries installed\n",
    "# It is defined by the kaggle/python Docker image: https://github.com/kaggle/docker-python\n",
    "# For example, here's several helpful packages to load\n",
    "\n",
    "import numpy as np # linear algebra\n",
    "import pandas as pd # data processing, CSV file I/O (e.g. pd.read_csv)\n",
    "\n",
    "# Input data files are available in the read-only \"../input/\" directory\n",
    "# For example, running this (by clicking run or pressing Shift+Enter) will list all files under the input directory\n",
    "\n",
    "import os\n",
    "for dirname, _, filenames in os.walk('/kaggle/input'):\n",
    "    for filename in filenames:\n",
    "        print(os.path.join(dirname, filename))\n",
    "\n",
    "# You can write up to 20GB to the current directory (/kaggle/working/) that gets preserved as output when you create a version using \"Save & Run All\" \n",
    "# You can also write temporary files to /kaggle/temp/, but they won't be saved outside of the current session"
   ]
  },
  {
   "cell_type": "markdown",
   "id": "71aa21ab",
   "metadata": {
    "papermill": {
     "duration": 0.005003,
     "end_time": "2025-07-12T08:33:36.491997",
     "exception": false,
     "start_time": "2025-07-12T08:33:36.486994",
     "status": "completed"
    },
    "tags": []
   },
   "source": [
    "## 📥 Step 1: Load and Preview the Dataset\n"
   ]
  },
  {
   "cell_type": "code",
   "execution_count": 2,
   "id": "388e2cfb",
   "metadata": {
    "execution": {
     "iopub.execute_input": "2025-07-12T08:33:36.503927Z",
     "iopub.status.busy": "2025-07-12T08:33:36.503424Z",
     "iopub.status.idle": "2025-07-12T08:33:36.576094Z",
     "shell.execute_reply": "2025-07-12T08:33:36.575095Z"
    },
    "papermill": {
     "duration": 0.080675,
     "end_time": "2025-07-12T08:33:36.577658",
     "exception": false,
     "start_time": "2025-07-12T08:33:36.496983",
     "status": "completed"
    },
    "tags": []
   },
   "outputs": [
    {
     "data": {
      "text/html": [
       "<div>\n",
       "<style scoped>\n",
       "    .dataframe tbody tr th:only-of-type {\n",
       "        vertical-align: middle;\n",
       "    }\n",
       "\n",
       "    .dataframe tbody tr th {\n",
       "        vertical-align: top;\n",
       "    }\n",
       "\n",
       "    .dataframe thead th {\n",
       "        text-align: right;\n",
       "    }\n",
       "</style>\n",
       "<table border=\"1\" class=\"dataframe\">\n",
       "  <thead>\n",
       "    <tr style=\"text-align: right;\">\n",
       "      <th></th>\n",
       "      <th>ID</th>\n",
       "      <th>Year_Birth</th>\n",
       "      <th>Education</th>\n",
       "      <th>Marital_Status</th>\n",
       "      <th>Income</th>\n",
       "      <th>Kidhome</th>\n",
       "      <th>Teenhome</th>\n",
       "      <th>Dt_Customer</th>\n",
       "      <th>Recency</th>\n",
       "      <th>MntWines</th>\n",
       "      <th>...</th>\n",
       "      <th>NumWebVisitsMonth</th>\n",
       "      <th>AcceptedCmp3</th>\n",
       "      <th>AcceptedCmp4</th>\n",
       "      <th>AcceptedCmp5</th>\n",
       "      <th>AcceptedCmp1</th>\n",
       "      <th>AcceptedCmp2</th>\n",
       "      <th>Complain</th>\n",
       "      <th>Z_CostContact</th>\n",
       "      <th>Z_Revenue</th>\n",
       "      <th>Response</th>\n",
       "    </tr>\n",
       "  </thead>\n",
       "  <tbody>\n",
       "    <tr>\n",
       "      <th>0</th>\n",
       "      <td>5524</td>\n",
       "      <td>1957</td>\n",
       "      <td>Graduation</td>\n",
       "      <td>Single</td>\n",
       "      <td>58138.0</td>\n",
       "      <td>0</td>\n",
       "      <td>0</td>\n",
       "      <td>2012-09-04</td>\n",
       "      <td>58</td>\n",
       "      <td>635</td>\n",
       "      <td>...</td>\n",
       "      <td>7</td>\n",
       "      <td>0</td>\n",
       "      <td>0</td>\n",
       "      <td>0</td>\n",
       "      <td>0</td>\n",
       "      <td>0</td>\n",
       "      <td>0</td>\n",
       "      <td>3</td>\n",
       "      <td>11</td>\n",
       "      <td>1</td>\n",
       "    </tr>\n",
       "    <tr>\n",
       "      <th>1</th>\n",
       "      <td>2174</td>\n",
       "      <td>1954</td>\n",
       "      <td>Graduation</td>\n",
       "      <td>Single</td>\n",
       "      <td>46344.0</td>\n",
       "      <td>1</td>\n",
       "      <td>1</td>\n",
       "      <td>2014-03-08</td>\n",
       "      <td>38</td>\n",
       "      <td>11</td>\n",
       "      <td>...</td>\n",
       "      <td>5</td>\n",
       "      <td>0</td>\n",
       "      <td>0</td>\n",
       "      <td>0</td>\n",
       "      <td>0</td>\n",
       "      <td>0</td>\n",
       "      <td>0</td>\n",
       "      <td>3</td>\n",
       "      <td>11</td>\n",
       "      <td>0</td>\n",
       "    </tr>\n",
       "    <tr>\n",
       "      <th>2</th>\n",
       "      <td>4141</td>\n",
       "      <td>1965</td>\n",
       "      <td>Graduation</td>\n",
       "      <td>Together</td>\n",
       "      <td>71613.0</td>\n",
       "      <td>0</td>\n",
       "      <td>0</td>\n",
       "      <td>2013-08-21</td>\n",
       "      <td>26</td>\n",
       "      <td>426</td>\n",
       "      <td>...</td>\n",
       "      <td>4</td>\n",
       "      <td>0</td>\n",
       "      <td>0</td>\n",
       "      <td>0</td>\n",
       "      <td>0</td>\n",
       "      <td>0</td>\n",
       "      <td>0</td>\n",
       "      <td>3</td>\n",
       "      <td>11</td>\n",
       "      <td>0</td>\n",
       "    </tr>\n",
       "    <tr>\n",
       "      <th>3</th>\n",
       "      <td>6182</td>\n",
       "      <td>1984</td>\n",
       "      <td>Graduation</td>\n",
       "      <td>Together</td>\n",
       "      <td>26646.0</td>\n",
       "      <td>1</td>\n",
       "      <td>0</td>\n",
       "      <td>2014-02-10</td>\n",
       "      <td>26</td>\n",
       "      <td>11</td>\n",
       "      <td>...</td>\n",
       "      <td>6</td>\n",
       "      <td>0</td>\n",
       "      <td>0</td>\n",
       "      <td>0</td>\n",
       "      <td>0</td>\n",
       "      <td>0</td>\n",
       "      <td>0</td>\n",
       "      <td>3</td>\n",
       "      <td>11</td>\n",
       "      <td>0</td>\n",
       "    </tr>\n",
       "    <tr>\n",
       "      <th>4</th>\n",
       "      <td>5324</td>\n",
       "      <td>1981</td>\n",
       "      <td>PhD</td>\n",
       "      <td>Married</td>\n",
       "      <td>58293.0</td>\n",
       "      <td>1</td>\n",
       "      <td>0</td>\n",
       "      <td>2014-01-19</td>\n",
       "      <td>94</td>\n",
       "      <td>173</td>\n",
       "      <td>...</td>\n",
       "      <td>5</td>\n",
       "      <td>0</td>\n",
       "      <td>0</td>\n",
       "      <td>0</td>\n",
       "      <td>0</td>\n",
       "      <td>0</td>\n",
       "      <td>0</td>\n",
       "      <td>3</td>\n",
       "      <td>11</td>\n",
       "      <td>0</td>\n",
       "    </tr>\n",
       "  </tbody>\n",
       "</table>\n",
       "<p>5 rows × 29 columns</p>\n",
       "</div>"
      ],
      "text/plain": [
       "     ID  Year_Birth   Education Marital_Status   Income  Kidhome  Teenhome  \\\n",
       "0  5524        1957  Graduation         Single  58138.0        0         0   \n",
       "1  2174        1954  Graduation         Single  46344.0        1         1   \n",
       "2  4141        1965  Graduation       Together  71613.0        0         0   \n",
       "3  6182        1984  Graduation       Together  26646.0        1         0   \n",
       "4  5324        1981         PhD        Married  58293.0        1         0   \n",
       "\n",
       "  Dt_Customer  Recency  MntWines  ...  NumWebVisitsMonth  AcceptedCmp3  \\\n",
       "0  2012-09-04       58       635  ...                  7             0   \n",
       "1  2014-03-08       38        11  ...                  5             0   \n",
       "2  2013-08-21       26       426  ...                  4             0   \n",
       "3  2014-02-10       26        11  ...                  6             0   \n",
       "4  2014-01-19       94       173  ...                  5             0   \n",
       "\n",
       "   AcceptedCmp4  AcceptedCmp5  AcceptedCmp1  AcceptedCmp2  Complain  \\\n",
       "0             0             0             0             0         0   \n",
       "1             0             0             0             0         0   \n",
       "2             0             0             0             0         0   \n",
       "3             0             0             0             0         0   \n",
       "4             0             0             0             0         0   \n",
       "\n",
       "   Z_CostContact  Z_Revenue  Response  \n",
       "0              3         11         1  \n",
       "1              3         11         0  \n",
       "2              3         11         0  \n",
       "3              3         11         0  \n",
       "4              3         11         0  \n",
       "\n",
       "[5 rows x 29 columns]"
      ]
     },
     "execution_count": 2,
     "metadata": {},
     "output_type": "execute_result"
    }
   ],
   "source": [
    "path = \"/kaggle/input/arketing-campaign/marketing_campaign.csv\"\n",
    "data = pd.read_csv(path, sep=';')\n",
    "\n",
    "df = pd.DataFrame(data)\n",
    "\n",
    "# Preview the dataset\n",
    "df.head()\n"
   ]
  },
  {
   "cell_type": "markdown",
   "id": "a7249fcf",
   "metadata": {
    "papermill": {
     "duration": 0.004608,
     "end_time": "2025-07-12T08:33:36.587618",
     "exception": false,
     "start_time": "2025-07-12T08:33:36.583010",
     "status": "completed"
    },
    "tags": []
   },
   "source": [
    "## 🧹 Step 2: Data Cleaning and Preparation\n",
    "- Handle missing values\n",
    "- Drop irrelevant columns\n",
    "- Convert date fields\n",
    "- Encode categorical variables\n"
   ]
  },
  {
   "cell_type": "code",
   "execution_count": 3,
   "id": "ee3e2177",
   "metadata": {
    "execution": {
     "iopub.execute_input": "2025-07-12T08:33:36.599141Z",
     "iopub.status.busy": "2025-07-12T08:33:36.598468Z",
     "iopub.status.idle": "2025-07-12T08:33:36.606919Z",
     "shell.execute_reply": "2025-07-12T08:33:36.605964Z"
    },
    "papermill": {
     "duration": 0.016302,
     "end_time": "2025-07-12T08:33:36.608859",
     "exception": false,
     "start_time": "2025-07-12T08:33:36.592557",
     "status": "completed"
    },
    "tags": []
   },
   "outputs": [],
   "source": [
    "# حذف عمود ID لأنه غير مؤثر في التنبؤ\n",
    "df.drop(['ID'], axis=1, inplace=True)"
   ]
  },
  {
   "cell_type": "code",
   "execution_count": 4,
   "id": "065787dd",
   "metadata": {
    "execution": {
     "iopub.execute_input": "2025-07-12T08:33:36.620880Z",
     "iopub.status.busy": "2025-07-12T08:33:36.620518Z",
     "iopub.status.idle": "2025-07-12T08:33:36.629678Z",
     "shell.execute_reply": "2025-07-12T08:33:36.628849Z"
    },
    "papermill": {
     "duration": 0.016971,
     "end_time": "2025-07-12T08:33:36.631441",
     "exception": false,
     "start_time": "2025-07-12T08:33:36.614470",
     "status": "completed"
    },
    "tags": []
   },
   "outputs": [],
   "source": [
    "df['Dt_Customer'] = pd.to_datetime(df['Dt_Customer'])"
   ]
  },
  {
   "cell_type": "code",
   "execution_count": 5,
   "id": "75d25672",
   "metadata": {
    "execution": {
     "iopub.execute_input": "2025-07-12T08:33:36.643876Z",
     "iopub.status.busy": "2025-07-12T08:33:36.643551Z",
     "iopub.status.idle": "2025-07-12T08:33:36.653318Z",
     "shell.execute_reply": "2025-07-12T08:33:36.652298Z"
    },
    "papermill": {
     "duration": 0.018125,
     "end_time": "2025-07-12T08:33:36.655209",
     "exception": false,
     "start_time": "2025-07-12T08:33:36.637084",
     "status": "completed"
    },
    "tags": []
   },
   "outputs": [
    {
     "data": {
      "text/plain": [
       "Year_Birth              0\n",
       "Education               0\n",
       "Marital_Status          0\n",
       "Income                 24\n",
       "Kidhome                 0\n",
       "Teenhome                0\n",
       "Dt_Customer             0\n",
       "Recency                 0\n",
       "MntWines                0\n",
       "MntFruits               0\n",
       "MntMeatProducts         0\n",
       "MntFishProducts         0\n",
       "MntSweetProducts        0\n",
       "MntGoldProds            0\n",
       "NumDealsPurchases       0\n",
       "NumWebPurchases         0\n",
       "NumCatalogPurchases     0\n",
       "NumStorePurchases       0\n",
       "NumWebVisitsMonth       0\n",
       "AcceptedCmp3            0\n",
       "AcceptedCmp4            0\n",
       "AcceptedCmp5            0\n",
       "AcceptedCmp1            0\n",
       "AcceptedCmp2            0\n",
       "Complain                0\n",
       "Z_CostContact           0\n",
       "Z_Revenue               0\n",
       "Response                0\n",
       "dtype: int64"
      ]
     },
     "execution_count": 5,
     "metadata": {},
     "output_type": "execute_result"
    }
   ],
   "source": [
    "# معرفة الأعمدة اللي فيها قيم ناقصة\n",
    "df.isnull().sum()\n",
    "\n"
   ]
  },
  {
   "cell_type": "code",
   "execution_count": 6,
   "id": "bf035f72",
   "metadata": {
    "execution": {
     "iopub.execute_input": "2025-07-12T08:33:36.667909Z",
     "iopub.status.busy": "2025-07-12T08:33:36.667575Z",
     "iopub.status.idle": "2025-07-12T08:33:36.673808Z",
     "shell.execute_reply": "2025-07-12T08:33:36.672809Z"
    },
    "papermill": {
     "duration": 0.014343,
     "end_time": "2025-07-12T08:33:36.675309",
     "exception": false,
     "start_time": "2025-07-12T08:33:36.660966",
     "status": "completed"
    },
    "tags": []
   },
   "outputs": [],
   "source": [
    "# مثال: لو في Null في الدخل، نعوض المتوسط\n",
    "df['Income'] = df['Income'].fillna(df['Income'].mean())"
   ]
  },
  {
   "cell_type": "code",
   "execution_count": 7,
   "id": "a6e55e5a",
   "metadata": {
    "execution": {
     "iopub.execute_input": "2025-07-12T08:33:36.687087Z",
     "iopub.status.busy": "2025-07-12T08:33:36.686740Z",
     "iopub.status.idle": "2025-07-12T08:33:36.694207Z",
     "shell.execute_reply": "2025-07-12T08:33:36.693330Z"
    },
    "papermill": {
     "duration": 0.015231,
     "end_time": "2025-07-12T08:33:36.695598",
     "exception": false,
     "start_time": "2025-07-12T08:33:36.680367",
     "status": "completed"
    },
    "tags": []
   },
   "outputs": [
    {
     "data": {
      "text/plain": [
       "Education         object\n",
       "Marital_Status    object\n",
       "dtype: object"
      ]
     },
     "execution_count": 7,
     "metadata": {},
     "output_type": "execute_result"
    }
   ],
   "source": [
    "df.dtypes[df.dtypes == 'object']\n"
   ]
  },
  {
   "cell_type": "code",
   "execution_count": 8,
   "id": "889d1e87",
   "metadata": {
    "execution": {
     "iopub.execute_input": "2025-07-12T08:33:36.707615Z",
     "iopub.status.busy": "2025-07-12T08:33:36.706832Z",
     "iopub.status.idle": "2025-07-12T08:33:36.712464Z",
     "shell.execute_reply": "2025-07-12T08:33:36.711742Z"
    },
    "papermill": {
     "duration": 0.013218,
     "end_time": "2025-07-12T08:33:36.714109",
     "exception": false,
     "start_time": "2025-07-12T08:33:36.700891",
     "status": "completed"
    },
    "tags": []
   },
   "outputs": [],
   "source": [
    "df = df.drop('Dt_Customer', axis=1)"
   ]
  },
  {
   "cell_type": "code",
   "execution_count": 9,
   "id": "f625952c",
   "metadata": {
    "execution": {
     "iopub.execute_input": "2025-07-12T08:33:36.726474Z",
     "iopub.status.busy": "2025-07-12T08:33:36.725943Z",
     "iopub.status.idle": "2025-07-12T08:33:38.461521Z",
     "shell.execute_reply": "2025-07-12T08:33:38.460627Z"
    },
    "papermill": {
     "duration": 1.7438,
     "end_time": "2025-07-12T08:33:38.463292",
     "exception": false,
     "start_time": "2025-07-12T08:33:36.719492",
     "status": "completed"
    },
    "tags": []
   },
   "outputs": [],
   "source": [
    "from sklearn.preprocessing import LabelEncoder\n",
    "\n",
    "le = LabelEncoder()\n",
    "df['Education'] = le.fit_transform(df['Education'])\n",
    "df['Marital_Status'] = le.fit_transform(df['Marital_Status'])\n"
   ]
  },
  {
   "cell_type": "code",
   "execution_count": 10,
   "id": "70b4ad93",
   "metadata": {
    "execution": {
     "iopub.execute_input": "2025-07-12T08:33:38.475652Z",
     "iopub.status.busy": "2025-07-12T08:33:38.474578Z",
     "iopub.status.idle": "2025-07-12T08:33:38.481005Z",
     "shell.execute_reply": "2025-07-12T08:33:38.480035Z"
    },
    "papermill": {
     "duration": 0.0143,
     "end_time": "2025-07-12T08:33:38.482777",
     "exception": false,
     "start_time": "2025-07-12T08:33:38.468477",
     "status": "completed"
    },
    "tags": []
   },
   "outputs": [],
   "source": [
    "X = df.drop('Response', axis=1)  # المدخلات (الخصائص)\n",
    "y = df['Response']               # الهدف (هل العميل استجاب للحملة؟)\n"
   ]
  },
  {
   "cell_type": "markdown",
   "id": "6818558e",
   "metadata": {
    "papermill": {
     "duration": 0.004933,
     "end_time": "2025-07-12T08:33:38.493008",
     "exception": false,
     "start_time": "2025-07-12T08:33:38.488075",
     "status": "completed"
    },
    "tags": []
   },
   "source": [
    "## ✂️ Step 3: Split Dataset into Train/Test Sets\n"
   ]
  },
  {
   "cell_type": "code",
   "execution_count": 11,
   "id": "31e8c333",
   "metadata": {
    "execution": {
     "iopub.execute_input": "2025-07-12T08:33:38.505414Z",
     "iopub.status.busy": "2025-07-12T08:33:38.504677Z",
     "iopub.status.idle": "2025-07-12T08:33:38.646661Z",
     "shell.execute_reply": "2025-07-12T08:33:38.645756Z"
    },
    "papermill": {
     "duration": 0.150334,
     "end_time": "2025-07-12T08:33:38.648498",
     "exception": false,
     "start_time": "2025-07-12T08:33:38.498164",
     "status": "completed"
    },
    "tags": []
   },
   "outputs": [],
   "source": [
    "from sklearn.model_selection import train_test_split\n",
    "\n",
    "# تقسيم البيانات بنسبة 80% تدريب و20% اختبار\n",
    "X_train, X_test, y_train, y_test = train_test_split(X, y, test_size=0.2, random_state=42)\n"
   ]
  },
  {
   "cell_type": "markdown",
   "id": "00e8f909",
   "metadata": {
    "papermill": {
     "duration": 0.004892,
     "end_time": "2025-07-12T08:33:38.658866",
     "exception": false,
     "start_time": "2025-07-12T08:33:38.653974",
     "status": "completed"
    },
    "tags": []
   },
   "source": [
    "## 🤖 Step 4: Build Logistic Regression Model\n",
    "- Train the model\n",
    "- Predict on test data\n",
    "- Evaluate baseline performance\n"
   ]
  },
  {
   "cell_type": "code",
   "execution_count": 12,
   "id": "cff3ceae",
   "metadata": {
    "execution": {
     "iopub.execute_input": "2025-07-12T08:33:38.670623Z",
     "iopub.status.busy": "2025-07-12T08:33:38.670292Z",
     "iopub.status.idle": "2025-07-12T08:33:43.022064Z",
     "shell.execute_reply": "2025-07-12T08:33:43.021139Z"
    },
    "papermill": {
     "duration": 4.360505,
     "end_time": "2025-07-12T08:33:43.024290",
     "exception": false,
     "start_time": "2025-07-12T08:33:38.663785",
     "status": "completed"
    },
    "tags": []
   },
   "outputs": [
    {
     "data": {
      "text/html": [
       "<style>#sk-container-id-1 {color: black;background-color: white;}#sk-container-id-1 pre{padding: 0;}#sk-container-id-1 div.sk-toggleable {background-color: white;}#sk-container-id-1 label.sk-toggleable__label {cursor: pointer;display: block;width: 100%;margin-bottom: 0;padding: 0.3em;box-sizing: border-box;text-align: center;}#sk-container-id-1 label.sk-toggleable__label-arrow:before {content: \"▸\";float: left;margin-right: 0.25em;color: #696969;}#sk-container-id-1 label.sk-toggleable__label-arrow:hover:before {color: black;}#sk-container-id-1 div.sk-estimator:hover label.sk-toggleable__label-arrow:before {color: black;}#sk-container-id-1 div.sk-toggleable__content {max-height: 0;max-width: 0;overflow: hidden;text-align: left;background-color: #f0f8ff;}#sk-container-id-1 div.sk-toggleable__content pre {margin: 0.2em;color: black;border-radius: 0.25em;background-color: #f0f8ff;}#sk-container-id-1 input.sk-toggleable__control:checked~div.sk-toggleable__content {max-height: 200px;max-width: 100%;overflow: auto;}#sk-container-id-1 input.sk-toggleable__control:checked~label.sk-toggleable__label-arrow:before {content: \"▾\";}#sk-container-id-1 div.sk-estimator input.sk-toggleable__control:checked~label.sk-toggleable__label {background-color: #d4ebff;}#sk-container-id-1 div.sk-label input.sk-toggleable__control:checked~label.sk-toggleable__label {background-color: #d4ebff;}#sk-container-id-1 input.sk-hidden--visually {border: 0;clip: rect(1px 1px 1px 1px);clip: rect(1px, 1px, 1px, 1px);height: 1px;margin: -1px;overflow: hidden;padding: 0;position: absolute;width: 1px;}#sk-container-id-1 div.sk-estimator {font-family: monospace;background-color: #f0f8ff;border: 1px dotted black;border-radius: 0.25em;box-sizing: border-box;margin-bottom: 0.5em;}#sk-container-id-1 div.sk-estimator:hover {background-color: #d4ebff;}#sk-container-id-1 div.sk-parallel-item::after {content: \"\";width: 100%;border-bottom: 1px solid gray;flex-grow: 1;}#sk-container-id-1 div.sk-label:hover label.sk-toggleable__label {background-color: #d4ebff;}#sk-container-id-1 div.sk-serial::before {content: \"\";position: absolute;border-left: 1px solid gray;box-sizing: border-box;top: 0;bottom: 0;left: 50%;z-index: 0;}#sk-container-id-1 div.sk-serial {display: flex;flex-direction: column;align-items: center;background-color: white;padding-right: 0.2em;padding-left: 0.2em;position: relative;}#sk-container-id-1 div.sk-item {position: relative;z-index: 1;}#sk-container-id-1 div.sk-parallel {display: flex;align-items: stretch;justify-content: center;background-color: white;position: relative;}#sk-container-id-1 div.sk-item::before, #sk-container-id-1 div.sk-parallel-item::before {content: \"\";position: absolute;border-left: 1px solid gray;box-sizing: border-box;top: 0;bottom: 0;left: 50%;z-index: -1;}#sk-container-id-1 div.sk-parallel-item {display: flex;flex-direction: column;z-index: 1;position: relative;background-color: white;}#sk-container-id-1 div.sk-parallel-item:first-child::after {align-self: flex-end;width: 50%;}#sk-container-id-1 div.sk-parallel-item:last-child::after {align-self: flex-start;width: 50%;}#sk-container-id-1 div.sk-parallel-item:only-child::after {width: 0;}#sk-container-id-1 div.sk-dashed-wrapped {border: 1px dashed gray;margin: 0 0.4em 0.5em 0.4em;box-sizing: border-box;padding-bottom: 0.4em;background-color: white;}#sk-container-id-1 div.sk-label label {font-family: monospace;font-weight: bold;display: inline-block;line-height: 1.2em;}#sk-container-id-1 div.sk-label-container {text-align: center;}#sk-container-id-1 div.sk-container {/* jupyter's `normalize.less` sets `[hidden] { display: none; }` but bootstrap.min.css set `[hidden] { display: none !important; }` so we also need the `!important` here to be able to override the default hidden behavior on the sphinx rendered scikit-learn.org. See: https://github.com/scikit-learn/scikit-learn/issues/21755 */display: inline-block !important;position: relative;}#sk-container-id-1 div.sk-text-repr-fallback {display: none;}</style><div id=\"sk-container-id-1\" class=\"sk-top-container\"><div class=\"sk-text-repr-fallback\"><pre>LogisticRegression(max_iter=1000)</pre><b>In a Jupyter environment, please rerun this cell to show the HTML representation or trust the notebook. <br />On GitHub, the HTML representation is unable to render, please try loading this page with nbviewer.org.</b></div><div class=\"sk-container\" hidden><div class=\"sk-item\"><div class=\"sk-estimator sk-toggleable\"><input class=\"sk-toggleable__control sk-hidden--visually\" id=\"sk-estimator-id-1\" type=\"checkbox\" checked><label for=\"sk-estimator-id-1\" class=\"sk-toggleable__label sk-toggleable__label-arrow\">LogisticRegression</label><div class=\"sk-toggleable__content\"><pre>LogisticRegression(max_iter=1000)</pre></div></div></div></div></div>"
      ],
      "text/plain": [
       "LogisticRegression(max_iter=1000)"
      ]
     },
     "execution_count": 12,
     "metadata": {},
     "output_type": "execute_result"
    }
   ],
   "source": [
    "from sklearn.linear_model import LogisticRegression\n",
    "\n",
    "# إنشاء النموذج\n",
    "model = LogisticRegression(max_iter=1000)\n",
    "\n",
    "# تدريب النموذج على بيانات التدريب\n",
    "model.fit(X_train, y_train)\n"
   ]
  },
  {
   "cell_type": "code",
   "execution_count": 13,
   "id": "c48dcad8",
   "metadata": {
    "execution": {
     "iopub.execute_input": "2025-07-12T08:33:43.043667Z",
     "iopub.status.busy": "2025-07-12T08:33:43.043324Z",
     "iopub.status.idle": "2025-07-12T08:33:43.050295Z",
     "shell.execute_reply": "2025-07-12T08:33:43.049503Z"
    },
    "papermill": {
     "duration": 0.018916,
     "end_time": "2025-07-12T08:33:43.052164",
     "exception": false,
     "start_time": "2025-07-12T08:33:43.033248",
     "status": "completed"
    },
    "tags": []
   },
   "outputs": [],
   "source": [
    "y_pred = model.predict(X_test)\n"
   ]
  },
  {
   "cell_type": "code",
   "execution_count": 14,
   "id": "9c0c2135",
   "metadata": {
    "execution": {
     "iopub.execute_input": "2025-07-12T08:33:43.073422Z",
     "iopub.status.busy": "2025-07-12T08:33:43.073068Z",
     "iopub.status.idle": "2025-07-12T08:33:44.031732Z",
     "shell.execute_reply": "2025-07-12T08:33:44.030760Z"
    },
    "papermill": {
     "duration": 0.971228,
     "end_time": "2025-07-12T08:33:44.033391",
     "exception": false,
     "start_time": "2025-07-12T08:33:43.062163",
     "status": "completed"
    },
    "tags": []
   },
   "outputs": [
    {
     "data": {
      "image/png": "[encoded data removed]",
      "text/plain": [
       "<Figure size 600x400 with 2 Axes>"
      ]
     },
     "metadata": {},
     "output_type": "display_data"
    }
   ],
   "source": [
    "import matplotlib.pyplot as plt\n",
    "import seaborn as sns\n",
    "from sklearn.metrics import confusion_matrix\n",
    "\n",
    "# إنشاء مصفوفة الالتباس\n",
    "cm = confusion_matrix(y_test, y_pred)\n",
    "\n",
    "# رسمها\n",
    "plt.figure(figsize=(6, 4))\n",
    "sns.heatmap(cm, annot=True, fmt='d', cmap='Blues')\n",
    "plt.title('Confusion Matrix')\n",
    "plt.xlabel('Predicted')\n",
    "plt.ylabel('Actual')\n",
    "plt.show()\n"
   ]
  },
  {
   "cell_type": "code",
   "execution_count": 15,
   "id": "5ce11a71",
   "metadata": {
    "execution": {
     "iopub.execute_input": "2025-07-12T08:33:44.046844Z",
     "iopub.status.busy": "2025-07-12T08:33:44.046361Z",
     "iopub.status.idle": "2025-07-12T08:33:44.267507Z",
     "shell.execute_reply": "2025-07-12T08:33:44.266352Z"
    },
    "papermill": {
     "duration": 0.229867,
     "end_time": "2025-07-12T08:33:44.269306",
     "exception": false,
     "start_time": "2025-07-12T08:33:44.039439",
     "status": "completed"
    },
    "tags": []
   },
   "outputs": [
    {
     "data": {
      "image/png": "[encoded data removed]",
      "text/plain": [
       "<Figure size 1000x400 with 1 Axes>"
      ]
     },
     "metadata": {},
     "output_type": "display_data"
    }
   ],
   "source": [
    "import numpy as np\n",
    "\n",
    "# رسم شريط بسيط لأوائل التوقعات\n",
    "plt.figure(figsize=(10, 4))\n",
    "plt.plot(np.array(y_test[:20]), label='Actual', marker='o')\n",
    "plt.plot(np.array(y_pred[:20]), label='Predicted', marker='x')\n",
    "plt.title('Actual vs Predicted (First 20 Samples)')\n",
    "plt.xlabel('Index')\n",
    "plt.ylabel('Response')\n",
    "plt.legend()\n",
    "plt.grid(True)\n",
    "plt.show()\n"
   ]
  },
  {
   "cell_type": "markdown",
   "id": "9de9e702",
   "metadata": {
    "papermill": {
     "duration": 0.006856,
     "end_time": "2025-07-12T08:33:44.283408",
     "exception": false,
     "start_time": "2025-07-12T08:33:44.276552",
     "status": "completed"
    },
    "tags": []
   },
   "source": [
    "## 🌲 Step 5: Build Random Forest Classifier\n",
    "- Train and evaluate a more powerful model\n"
   ]
  },
  {
   "cell_type": "code",
   "execution_count": 16,
   "id": "a85eef6c",
   "metadata": {
    "execution": {
     "iopub.execute_input": "2025-07-12T08:33:44.297527Z",
     "iopub.status.busy": "2025-07-12T08:33:44.297200Z",
     "iopub.status.idle": "2025-07-12T08:33:45.027853Z",
     "shell.execute_reply": "2025-07-12T08:33:45.026894Z"
    },
    "papermill": {
     "duration": 0.739852,
     "end_time": "2025-07-12T08:33:45.029577",
     "exception": false,
     "start_time": "2025-07-12T08:33:44.289725",
     "status": "completed"
    },
    "tags": []
   },
   "outputs": [
    {
     "data": {
      "text/html": [
       "<style>#sk-container-id-2 {color: black;background-color: white;}#sk-container-id-2 pre{padding: 0;}#sk-container-id-2 div.sk-toggleable {background-color: white;}#sk-container-id-2 label.sk-toggleable__label {cursor: pointer;display: block;width: 100%;margin-bottom: 0;padding: 0.3em;box-sizing: border-box;text-align: center;}#sk-container-id-2 label.sk-toggleable__label-arrow:before {content: \"▸\";float: left;margin-right: 0.25em;color: #696969;}#sk-container-id-2 label.sk-toggleable__label-arrow:hover:before {color: black;}#sk-container-id-2 div.sk-estimator:hover label.sk-toggleable__label-arrow:before {color: black;}#sk-container-id-2 div.sk-toggleable__content {max-height: 0;max-width: 0;overflow: hidden;text-align: left;background-color: #f0f8ff;}#sk-container-id-2 div.sk-toggleable__content pre {margin: 0.2em;color: black;border-radius: 0.25em;background-color: #f0f8ff;}#sk-container-id-2 input.sk-toggleable__control:checked~div.sk-toggleable__content {max-height: 200px;max-width: 100%;overflow: auto;}#sk-container-id-2 input.sk-toggleable__control:checked~label.sk-toggleable__label-arrow:before {content: \"▾\";}#sk-container-id-2 div.sk-estimator input.sk-toggleable__control:checked~label.sk-toggleable__label {background-color: #d4ebff;}#sk-container-id-2 div.sk-label input.sk-toggleable__control:checked~label.sk-toggleable__label {background-color: #d4ebff;}#sk-container-id-2 input.sk-hidden--visually {border: 0;clip: rect(1px 1px 1px 1px);clip: rect(1px, 1px, 1px, 1px);height: 1px;margin: -1px;overflow: hidden;padding: 0;position: absolute;width: 1px;}#sk-container-id-2 div.sk-estimator {font-family: monospace;background-color: #f0f8ff;border: 1px dotted black;border-radius: 0.25em;box-sizing: border-box;margin-bottom: 0.5em;}#sk-container-id-2 div.sk-estimator:hover {background-color: #d4ebff;}#sk-container-id-2 div.sk-parallel-item::after {content: \"\";width: 100%;border-bottom: 1px solid gray;flex-grow: 1;}#sk-container-id-2 div.sk-label:hover label.sk-toggleable__label {background-color: #d4ebff;}#sk-container-id-2 div.sk-serial::before {content: \"\";position: absolute;border-left: 1px solid gray;box-sizing: border-box;top: 0;bottom: 0;left: 50%;z-index: 0;}#sk-container-id-2 div.sk-serial {display: flex;flex-direction: column;align-items: center;background-color: white;padding-right: 0.2em;padding-left: 0.2em;position: relative;}#sk-container-id-2 div.sk-item {position: relative;z-index: 1;}#sk-container-id-2 div.sk-parallel {display: flex;align-items: stretch;justify-content: center;background-color: white;position: relative;}#sk-container-id-2 div.sk-item::before, #sk-container-id-2 div.sk-parallel-item::before {content: \"\";position: absolute;border-left: 1px solid gray;box-sizing: border-box;top: 0;bottom: 0;left: 50%;z-index: -1;}#sk-container-id-2 div.sk-parallel-item {display: flex;flex-direction: column;z-index: 1;position: relative;background-color: white;}#sk-container-id-2 div.sk-parallel-item:first-child::after {align-self: flex-end;width: 50%;}#sk-container-id-2 div.sk-parallel-item:last-child::after {align-self: flex-start;width: 50%;}#sk-container-id-2 div.sk-parallel-item:only-child::after {width: 0;}#sk-container-id-2 div.sk-dashed-wrapped {border: 1px dashed gray;margin: 0 0.4em 0.5em 0.4em;box-sizing: border-box;padding-bottom: 0.4em;background-color: white;}#sk-container-id-2 div.sk-label label {font-family: monospace;font-weight: bold;display: inline-block;line-height: 1.2em;}#sk-container-id-2 div.sk-label-container {text-align: center;}#sk-container-id-2 div.sk-container {/* jupyter's `normalize.less` sets `[hidden] { display: none; }` but bootstrap.min.css set `[hidden] { display: none !important; }` so we also need the `!important` here to be able to override the default hidden behavior on the sphinx rendered scikit-learn.org. See: https://github.com/scikit-learn/scikit-learn/issues/21755 */display: inline-block !important;position: relative;}#sk-container-id-2 div.sk-text-repr-fallback {display: none;}</style><div id=\"sk-container-id-2\" class=\"sk-top-container\"><div class=\"sk-text-repr-fallback\"><pre>RandomForestClassifier(random_state=42)</pre><b>In a Jupyter environment, please rerun this cell to show the HTML representation or trust the notebook. <br />On GitHub, the HTML representation is unable to render, please try loading this page with nbviewer.org.</b></div><div class=\"sk-container\" hidden><div class=\"sk-item\"><div class=\"sk-estimator sk-toggleable\"><input class=\"sk-toggleable__control sk-hidden--visually\" id=\"sk-estimator-id-2\" type=\"checkbox\" checked><label for=\"sk-estimator-id-2\" class=\"sk-toggleable__label sk-toggleable__label-arrow\">RandomForestClassifier</label><div class=\"sk-toggleable__content\"><pre>RandomForestClassifier(random_state=42)</pre></div></div></div></div></div>"
      ],
      "text/plain": [
       "RandomForestClassifier(random_state=42)"
      ]
     },
     "execution_count": 16,
     "metadata": {},
     "output_type": "execute_result"
    }
   ],
   "source": [
    "from sklearn.ensemble import RandomForestClassifier\n",
    "\n",
    "# إنشاء النموذج\n",
    "rf_model = RandomForestClassifier(n_estimators=100, random_state=42)\n",
    "\n",
    "# تدريب النموذج\n",
    "rf_model.fit(X_train, y_train)\n"
   ]
  },
  {
   "cell_type": "code",
   "execution_count": 17,
   "id": "4de38b51",
   "metadata": {
    "execution": {
     "iopub.execute_input": "2025-07-12T08:33:45.044666Z",
     "iopub.status.busy": "2025-07-12T08:33:45.044323Z",
     "iopub.status.idle": "2025-07-12T08:33:45.063634Z",
     "shell.execute_reply": "2025-07-12T08:33:45.062597Z"
    },
    "papermill": {
     "duration": 0.029056,
     "end_time": "2025-07-12T08:33:45.065479",
     "exception": false,
     "start_time": "2025-07-12T08:33:45.036423",
     "status": "completed"
    },
    "tags": []
   },
   "outputs": [],
   "source": [
    "rf_pred = rf_model.predict(X_test)\n"
   ]
  },
  {
   "cell_type": "markdown",
   "id": "3bf82abd",
   "metadata": {
    "papermill": {
     "duration": 0.007507,
     "end_time": "2025-07-12T08:33:45.079842",
     "exception": false,
     "start_time": "2025-07-12T08:33:45.072335",
     "status": "completed"
    },
    "tags": []
   },
   "source": [
    "## 📈 Step 6: Model Evaluation and Visualization\n",
    "- Confusion matrix\n",
    "- Accuracy and classification report\n",
    "- Compare actual vs predicted responses\n"
   ]
  },
  {
   "cell_type": "code",
   "execution_count": 18,
   "id": "221f0725",
   "metadata": {
    "execution": {
     "iopub.execute_input": "2025-07-12T08:33:45.097969Z",
     "iopub.status.busy": "2025-07-12T08:33:45.096766Z",
     "iopub.status.idle": "2025-07-12T08:33:45.116290Z",
     "shell.execute_reply": "2025-07-12T08:33:45.114918Z"
    },
    "papermill": {
     "duration": 0.03145,
     "end_time": "2025-07-12T08:33:45.118291",
     "exception": false,
     "start_time": "2025-07-12T08:33:45.086841",
     "status": "completed"
    },
    "tags": []
   },
   "outputs": [
    {
     "name": "stdout",
     "output_type": "stream",
     "text": [
      "Random Forest Accuracy: 0.8727678571428571\n",
      "Confusion Matrix:\n",
      " [[369  10]\n",
      " [ 47  22]]\n",
      "Classification Report:\n",
      "               precision    recall  f1-score   support\n",
      "\n",
      "           0       0.89      0.97      0.93       379\n",
      "           1       0.69      0.32      0.44        69\n",
      "\n",
      "    accuracy                           0.87       448\n",
      "   macro avg       0.79      0.65      0.68       448\n",
      "weighted avg       0.86      0.87      0.85       448\n",
      "\n"
     ]
    }
   ],
   "source": [
    "from sklearn.metrics import accuracy_score, classification_report, confusion_matrix\n",
    "\n",
    "# دقة النموذج\n",
    "rf_accuracy = accuracy_score(y_test, rf_pred)\n",
    "print(\"Random Forest Accuracy:\", rf_accuracy)\n",
    "\n",
    "# مصفوفة الالتباس\n",
    "print(\"Confusion Matrix:\\n\", confusion_matrix(y_test, rf_pred))\n",
    "\n",
    "# تقرير مفصل\n",
    "print(\"Classification Report:\\n\", classification_report(y_test, rf_pred))\n"
   ]
  },
  {
   "cell_type": "code",
   "execution_count": 19,
   "id": "b3af972e",
   "metadata": {
    "execution": {
     "iopub.execute_input": "2025-07-12T08:33:45.134256Z",
     "iopub.status.busy": "2025-07-12T08:33:45.133962Z",
     "iopub.status.idle": "2025-07-12T08:33:45.325935Z",
     "shell.execute_reply": "2025-07-12T08:33:45.324954Z"
    },
    "papermill": {
     "duration": 0.202152,
     "end_time": "2025-07-12T08:33:45.327525",
     "exception": false,
     "start_time": "2025-07-12T08:33:45.125373",
     "status": "completed"
    },
    "tags": []
   },
   "outputs": [
    {
     "data": {
      "image/png": "[encoded data removed]",
      "text/plain": [
       "<Figure size 600x400 with 2 Axes>"
      ]
     },
     "metadata": {},
     "output_type": "display_data"
    }
   ],
   "source": [
    "import seaborn as sns\n",
    "import matplotlib.pyplot as plt\n",
    "\n",
    "cm_rf = confusion_matrix(y_test, rf_pred)\n",
    "\n",
    "plt.figure(figsize=(6, 4))\n",
    "sns.heatmap(cm_rf, annot=True, fmt='d', cmap='Greens')\n",
    "plt.title('Random Forest - Confusion Matrix')\n",
    "plt.xlabel('Predicted')\n",
    "plt.ylabel('Actual')\n",
    "plt.show()\n"
   ]
  },
  {
   "cell_type": "code",
   "execution_count": null,
   "id": "f71cc26f",
   "metadata": {
    "papermill": {
     "duration": 0.006754,
     "end_time": "2025-07-12T08:33:45.341747",
     "exception": false,
     "start_time": "2025-07-12T08:33:45.334993",
     "status": "completed"
    },
    "tags": []
   },
   "outputs": [],
   "source": []
  }
 ],
 "metadata": {
  "kaggle": {
   "accelerator": "none",
   "dataSources": [
    {
     "datasetId": 178248,
     "sourceId": 1139908,
     "sourceType": "datasetVersion"
    }
   ],
   "dockerImageVersionId": 31040,
   "isGpuEnabled": false,
   "isInternetEnabled": true,
   "language": "python",
   "sourceType": "notebook"
  },
  "kernelspec": {
   "display_name": "Python 3",
   "language": "python",
   "name": "python3"
  },
  "language_info": {
   "codemirror_mode": {
    "name": "ipython",
    "version": 3
   },
   "file_extension": ".py",
   "mimetype": "text/x-python",
   "name": "python",
   "nbconvert_exporter": "python",
   "pygments_lexer": "ipython3",
   "version": "3.11.11"
  },
  "papermill": {
   "default_parameters": {},
   "duration": 17.722704,
   "end_time": "2025-07-12T08:33:46.170715",
   "environment_variables": {},
   "exception": null,
   "input_path": "__notebook__.ipynb",
   "output_path": "__notebook__.ipynb",
   "parameters": {},
   "start_time": "2025-07-12T08:33:28.448011",
   "version": "2.6.0"
  }
 },
 "nbformat": 4,
 "nbformat_minor": 5
}
